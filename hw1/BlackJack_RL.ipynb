{
 "cells": [
  {
   "cell_type": "code",
   "execution_count": 1,
   "metadata": {},
   "outputs": [],
   "source": [
    "%load_ext autoreload\n",
    "%autoreload 2\n",
    "\n",
    "import numpy as np\n",
    "import pandas as pd\n",
    "import gym\n",
    "import matplotlib.pyplot as plt\n",
    "\n",
    "from collections import defaultdict\n",
    "from itertools import product as itprod\n",
    "from tqdm import tqdm\n",
    "\n",
    "%matplotlib inline"
   ]
  },
  {
   "cell_type": "markdown",
   "metadata": {},
   "source": [
    "# Часть первая, с блекджеком и стратегиями"
   ]
  },
  {
   "cell_type": "markdown",
   "metadata": {},
   "source": [
    "Мы будем обучаться играть в очень простую, но всё-таки знаменитую и популярную игру: блекджек. Правила блекджека достаточно просты; давайте начнём с самой базовой версии, которая реализована в OpenAI Gym:\n",
    "- численные значения карт равны от 2 до 10 для карт от двойки до десятки, 10 для валетов, дам и королей;\n",
    "- туз считается за 11 очков, если общая сумма карт на руке при этом не превосходит 21 (по-английски в этом случае говорят, что на руке есть usable ace), и за 1 очко, если превосходит;\n",
    "- игроку раздаются две карты, дилеру — одна в открытую и одна в закрытую;\n",
    "- игрок может совершать одно из двух действий:\n",
    "hit  — взять ещё одну карту;\n",
    "stand — не брать больше карт;\n",
    "- если сумма очков у игрока на руках больше 21, он проигрывает (bust);\n",
    "- если игрок выбирает stand с суммой не больше 21, дилер добирает карты, пока сумма карт в его руке меньше 17;\n",
    "- после этого игрок выигрывает, если дилер либо превышает 21, либо получает сумму очков меньше, чем сумма очков у игрока; при равенстве очков объявляется ничья (ставка возвращается);\n",
    "- в исходных правилах есть ещё дополнительный бонус за natural blackjack: если игрок набирает 21 очко с раздачи, двумя картами, он выигрывает не +1, а +1.5 (полторы ставки).\n",
    "\n",
    "Именно этот простейший вариант блекджека реализован в OpenAI Gym:\n",
    "https://github.com/openai/gym/blob/38a1f630dc9815a567aaf299ae5844c8f8b9a6fa/gym/envs/toy_text/blackjack.py"
   ]
  },
  {
   "cell_type": "markdown",
   "metadata": {},
   "source": [
    "#### Рассмотрим очень простую стратегию: говорить stand, если у нас на руках комбинация в 19, 20 или 21 очко, во всех остальных случаях говорить hit. Используйте методы Монте-Карло, чтобы оценить выигрыш от этой стратегии."
   ]
  },
  {
   "cell_type": "code",
   "execution_count": 2,
   "metadata": {},
   "outputs": [],
   "source": [
    "np.random.seed(1)"
   ]
  },
  {
   "cell_type": "code",
   "execution_count": 59,
   "metadata": {},
   "outputs": [],
   "source": [
    "def play_episode_naive(env):\n",
    "    s = env.reset()\n",
    "    done = False\n",
    "    while not done:\n",
    "        action = 1 if s[0] < 19 else 0 \n",
    "        next_state, reward, done, _ = env.step(action)\n",
    "        s = next_state\n",
    "    return reward\n",
    "\n",
    "def evaluate_pi(Q):\n",
    "    return Q.argmax(1)\n",
    "\n",
    "def play_by_pi(Q, env, n_episodes=500_000):\n",
    "    rewards = []\n",
    "    pi = evaluate_pi(Q)\n",
    "    for _ in range(n_episodes):\n",
    "        s = states_map[env.reset()]\n",
    "        done = False\n",
    "        while not done:\n",
    "            a = pi[s]\n",
    "            s, r, done, _ = env.step(a)\n",
    "            s = states_map[s]\n",
    "        rewards.append(r)\n",
    "    return rewards\n",
    "\n",
    "def q_learning(Q, env, states_map, alpha=0.01, gamma=1, epsilon=0.01):\n",
    "    s = states_map[env.reset()]\n",
    "    done = False\n",
    "    while not done: \n",
    "        pi = evaluate_pi(Q)\n",
    "        a = pi[s] if np.random.rand() > epsilon else env.action_space.sample()\n",
    "        next_state, r, done, _ = env.step(a)\n",
    "        next_state = states_map[next_state]\n",
    "        Q[s][a] = Q[s][a] + alpha * (r + gamma * np.max(Q[next_state]) - Q[s][a])\n",
    "        s = next_state\n",
    "    return Q\n",
    "\n",
    "def train(states_map, env, alpha=0.0001, gamma=1, epsilon=0.9, n_episodes=500_000):\n",
    "    Q = np.zeros((len(states), env.action_space.n))\n",
    "    for _ in range(n_episodes):\n",
    "        Q = q_learning(Q, env, states_map, alpha, gamma, epsilon)\n",
    "    return Q\n",
    "\n",
    "def grid_param(param_name, param_space, params, states_map, env, n_episodes_train=500_000, n_episodes_eval=500_000):\n",
    "    best_r = -np.inf\n",
    "    best_param = None\n",
    "    for param_value in param_space:\n",
    "        params[param_name] = param_value\n",
    "        Q = train(states_map, env, **params, n_episodes=n_episodes_train)\n",
    "        r = np.mean(play_by_pi(Q, env, n_episodes=n_episodes_eval))\n",
    "        if r > best_r:\n",
    "            best_r = r\n",
    "            best_param = param_value\n",
    "        print(f'{params} \\t reward: {r}')\n",
    "    return best_param\n",
    "        \n",
    "def evaluate_reward(states_map, env, alpha, epsilon, gamma, n_episodes_train=500_000, n_episodes_eval=500_000,\n",
    "                    eval_every=20_000):\n",
    "    Q = np.zeros((len(states), env.action_space.n))\n",
    "    rewards = []\n",
    "    for i in range(n_episodes_train):\n",
    "        Q = q_learning(Q, env, states_map, alpha=alpha, gamma=gamma, epsilon=epsilon)\n",
    "        if i == 0 or (i + 1) % eval_every == 0:\n",
    "            r = np.mean(play_by_pi(Q, env, n_episodes=n_episodes_eval))\n",
    "            rewards.append(r)\n",
    "            print(f'Итерация {i + 1}: {r}')\n",
    "    return rewards, Q"
   ]
  },
  {
   "cell_type": "code",
   "execution_count": 4,
   "metadata": {},
   "outputs": [],
   "source": [
    "env = gym.make('Blackjack-v0', natural=True)"
   ]
  },
  {
   "cell_type": "code",
   "execution_count": 5,
   "metadata": {},
   "outputs": [],
   "source": [
    "rewards = np.array([play_episode_naive(env) for _ in range(500_000)])"
   ]
  },
  {
   "cell_type": "code",
   "execution_count": 6,
   "metadata": {},
   "outputs": [
    {
     "name": "stdout",
     "output_type": "stream",
     "text": [
      "Средняя прибыль от наивной стратегии: -0.179443\n"
     ]
    }
   ],
   "source": [
    "print(f'Средняя прибыль от наивной стратегии: {np.mean(rewards)}')"
   ]
  },
  {
   "cell_type": "markdown",
   "metadata": {},
   "source": [
    "По наивной стратегии мы много проигрываем, попробуем реализовать Q-learning. Поперебираем основные параметры."
   ]
  },
  {
   "cell_type": "code",
   "execution_count": 7,
   "metadata": {},
   "outputs": [],
   "source": [
    "space = env.observation_space\n",
    "states = list(itprod(range(1, space[0].n + 1), range(1, space[1].n + 1), [False, True]))\n",
    "states_map = dict(zip(states, range(len(states))))\n",
    "Q = np.zeros((len(states), env.action_space.n))"
   ]
  },
  {
   "cell_type": "code",
   "execution_count": 8,
   "metadata": {},
   "outputs": [],
   "source": [
    "alpha = 0.0001\n",
    "gamma = 1\n",
    "epsilon = 0.9"
   ]
  },
  {
   "cell_type": "code",
   "execution_count": 13,
   "metadata": {
    "scrolled": true
   },
   "outputs": [
    {
     "name": "stdout",
     "output_type": "stream",
     "text": [
      "{'alpha': 0.0001, 'gamma': 1, 'epsilon': 0.9} \t reward: -0.032876\n",
      "{'alpha': 0.0002, 'gamma': 1, 'epsilon': 0.9} \t reward: -0.031823\n",
      "{'alpha': 0.0003, 'gamma': 1, 'epsilon': 0.9} \t reward: -0.053438\n",
      "{'alpha': 0.0005, 'gamma': 1, 'epsilon': 0.9} \t reward: -0.057681\n",
      "{'alpha': 0.001, 'gamma': 1, 'epsilon': 0.9} \t reward: -0.119568\n",
      "{'alpha': 0.002, 'gamma': 1, 'epsilon': 0.9} \t reward: -0.14657\n",
      "{'alpha': 0.005, 'gamma': 1, 'epsilon': 0.9} \t reward: -0.126862\n"
     ]
    }
   ],
   "source": [
    "params = {\n",
    "    'alpha': alpha,\n",
    "    'gamma': gamma,\n",
    "    'epsilon': epsilon\n",
    "}\n",
    "alpha_space = [0.0001, 0.0002, 0.0003, 0.0005, 0.001, 0.002, 0.005]\n",
    "alpha = grid_param('alpha', alpha_space, params, states_map, env)"
   ]
  },
  {
   "cell_type": "code",
   "execution_count": 17,
   "metadata": {},
   "outputs": [
    {
     "name": "stdout",
     "output_type": "stream",
     "text": [
      "{'alpha': 0.0002, 'gamma': 1, 'epsilon': 0.01} \t reward: -0.083467\n",
      "{'alpha': 0.0002, 'gamma': 1, 'epsilon': 0.25} \t reward: -0.052781\n",
      "{'alpha': 0.0002, 'gamma': 1, 'epsilon': 0.5} \t reward: -0.057574\n",
      "{'alpha': 0.0002, 'gamma': 1, 'epsilon': 0.75} \t reward: -0.058407\n",
      "{'alpha': 0.0002, 'gamma': 1, 'epsilon': 0.9} \t reward: -0.033677\n",
      "{'alpha': 0.0002, 'gamma': 1, 'epsilon': 0.92} \t reward: -0.03359\n",
      "{'alpha': 0.0002, 'gamma': 1, 'epsilon': 0.95} \t reward: -0.031934\n",
      "{'alpha': 0.0002, 'gamma': 1, 'epsilon': 0.98} \t reward: -0.031805\n",
      "{'alpha': 0.0002, 'gamma': 1, 'epsilon': 0.99} \t reward: -0.031517\n"
     ]
    }
   ],
   "source": [
    "params = {\n",
    "    'alpha': alpha,\n",
    "    'gamma': gamma,\n",
    "    'epsilon': epsilon\n",
    "}\n",
    "epsilon_space = [0.01, 0.25, 0.5, 0.75, 0.9, 0.92, 0.95, 0.98, 0.99]\n",
    "epsilon = grid_param('epsilon', epsilon_space, params, states_map, env)"
   ]
  },
  {
   "cell_type": "code",
   "execution_count": 22,
   "metadata": {
    "scrolled": true
   },
   "outputs": [
    {
     "name": "stdout",
     "output_type": "stream",
     "text": [
      "{'alpha': 0.0002, 'gamma': 0.0, 'epsilon': 0.99} \t reward: -0.031878\n",
      "{'alpha': 0.0002, 'gamma': 0.1, 'epsilon': 0.99} \t reward: -0.032188\n",
      "{'alpha': 0.0002, 'gamma': 0.2, 'epsilon': 0.99} \t reward: -0.034291\n",
      "{'alpha': 0.0002, 'gamma': 0.30000000000000004, 'epsilon': 0.99} \t reward: -0.03035\n",
      "{'alpha': 0.0002, 'gamma': 0.4, 'epsilon': 0.99} \t reward: -0.029369\n",
      "{'alpha': 0.0002, 'gamma': 0.5, 'epsilon': 0.99} \t reward: -0.029263\n",
      "{'alpha': 0.0002, 'gamma': 0.6000000000000001, 'epsilon': 0.99} \t reward: -0.034986\n",
      "{'alpha': 0.0002, 'gamma': 0.7000000000000001, 'epsilon': 0.99} \t reward: -0.035298\n",
      "{'alpha': 0.0002, 'gamma': 0.8, 'epsilon': 0.99} \t reward: -0.034983\n",
      "{'alpha': 0.0002, 'gamma': 0.9, 'epsilon': 0.99} \t reward: -0.032704\n",
      "{'alpha': 0.0002, 'gamma': 1.0, 'epsilon': 0.99} \t reward: -0.032846\n"
     ]
    }
   ],
   "source": [
    "params = {\n",
    "    'alpha': alpha,\n",
    "    'gamma': gamma,\n",
    "    'epsilon': epsilon\n",
    "}\n",
    "gamma_space = np.linspace(0, 1, 11)\n",
    "gamma = grid_param('gamma', gamma_space, params, states_map, env)"
   ]
  },
  {
   "cell_type": "code",
   "execution_count": 25,
   "metadata": {},
   "outputs": [
    {
     "name": "stdout",
     "output_type": "stream",
     "text": [
      "Итерация 0: -0.167384\n",
      "Итерация 20000: -0.039245\n",
      "Итерация 40000: -0.033144\n",
      "Итерация 60000: -0.030057\n",
      "Итерация 80000: -0.032259\n",
      "Итерация 100000: -0.032211\n",
      "Итерация 120000: -0.033045\n",
      "Итерация 140000: -0.031419\n",
      "Итерация 160000: -0.031154\n",
      "Итерация 180000: -0.030853\n",
      "Итерация 200000: -0.031578\n",
      "Итерация 220000: -0.031132\n",
      "Итерация 240000: -0.027889\n",
      "Итерация 260000: -0.027285\n",
      "Итерация 280000: -0.030024\n",
      "Итерация 300000: -0.028162\n",
      "Итерация 320000: -0.02789\n",
      "Итерация 340000: -0.029119\n",
      "Итерация 360000: -0.028773\n",
      "Итерация 380000: -0.025468\n",
      "Итерация 400000: -0.028786\n",
      "Итерация 420000: -0.030489\n",
      "Итерация 440000: -0.029665\n",
      "Итерация 460000: -0.028351\n",
      "Итерация 480000: -0.028356\n"
     ]
    }
   ],
   "source": [
    "rewards_history, Q = evaluate_reward(states_map, env, alpha=alpha, epsilon=epsilon, gamma=gamma)"
   ]
  },
  {
   "cell_type": "code",
   "execution_count": 26,
   "metadata": {},
   "outputs": [
    {
     "name": "stdout",
     "output_type": "stream",
     "text": [
      "Средняя прибыль от RL: -0.026414\n"
     ]
    }
   ],
   "source": [
    "rewards = play_by_pi(Q, env, n_episodes=500_000)\n",
    "\n",
    "print(f'Средняя прибыль от RL: {np.mean(rewards)}')"
   ]
  },
  {
   "cell_type": "markdown",
   "metadata": {},
   "source": [
    "Уже лучше, такая стратегия значительно выгоднее, хотя мы все еще проигрываем."
   ]
  },
  {
   "cell_type": "code",
   "execution_count": 27,
   "metadata": {},
   "outputs": [
    {
     "data": {
      "image/png": "[encoded data removed]",
      "text/plain": [
       "<Figure size 1152x432 with 1 Axes>"
      ]
     },
     "metadata": {
      "needs_background": "light"
     },
     "output_type": "display_data"
    }
   ],
   "source": [
    "plt.figure(figsize=(16, 6))\n",
    "plt.title('Средняя прибыль в процессе обучения')\n",
    "plt.plot(rewards_history);"
   ]
  },
  {
   "cell_type": "markdown",
   "metadata": {},
   "source": [
    "# Часть вторая, удвоенная"
   ]
  },
  {
   "cell_type": "markdown",
   "metadata": {},
   "source": [
    "В базовый блекджек, описанный в предыдущем разделе, обыграть казино вряд ли получится. Но, к счастью, на этом история не заканчивается. Описанные выше правила были упрощёнными, а на самом деле у игрока есть ещё и другие возможности. Реализовывать split может оказаться непросто, поэтому давайте ограничимся удвоением ставки. Итак, у игрока появляется дополнительное действие:\n",
    "- double — удвоить ставку; при этом больше действий делать нельзя, игроку выдаётся ровно одна дополнительная карта, а выигрыш или проигрыш удваивается.\n",
    "- Реализуйте новый вариант блекджека на основе окружения Blackjack-v0 из OpenAI Gym, в котором разрешено удвоение ставки.\n",
    "- Реализуйте метод обучения с подкреплением без модели для этого варианта, постройте графики, аналогичные п.2."
   ]
  },
  {
   "cell_type": "code",
   "execution_count": 28,
   "metadata": {},
   "outputs": [],
   "source": [
    "from BlackjackEnvWithDouble import BlackjackEnvWithDouble"
   ]
  },
  {
   "cell_type": "code",
   "execution_count": 29,
   "metadata": {},
   "outputs": [],
   "source": [
    "env = BlackjackEnvWithDouble(natural=True)"
   ]
  },
  {
   "cell_type": "code",
   "execution_count": null,
   "metadata": {},
   "outputs": [
    {
     "name": "stdout",
     "output_type": "stream",
     "text": [
      "{'alpha': 0.0002, 'gamma': 0.5, 'epsilon': 0.9} \t reward: -0.022305\n",
      "{'alpha': 0.0002, 'gamma': 0.5, 'epsilon': 0.91} \t reward: -0.017359\n",
      "{'alpha': 0.0002, 'gamma': 0.5, 'epsilon': 0.92} \t reward: -0.021397\n",
      "{'alpha': 0.0002, 'gamma': 0.5, 'epsilon': 0.93} \t reward: -0.016208\n",
      "{'alpha': 0.0002, 'gamma': 0.5, 'epsilon': 0.9400000000000001} \t reward: -0.014558\n",
      "{'alpha': 0.0002, 'gamma': 0.5, 'epsilon': 0.95} \t reward: -0.019484\n",
      "{'alpha': 0.0002, 'gamma': 0.5, 'epsilon': 0.96} \t reward: -0.017002\n",
      "{'alpha': 0.0002, 'gamma': 0.5, 'epsilon': 0.97} \t reward: -0.019636\n",
      "{'alpha': 0.0002, 'gamma': 0.5, 'epsilon': 0.98} \t reward: -0.019292\n"
     ]
    }
   ],
   "source": [
    "params = {\n",
    "    'alpha': alpha,\n",
    "    'gamma': gamma,\n",
    "    'epsilon': epsilon\n",
    "}\n",
    "epsilon_space = np.linspace(0.9, 0.99, 10)\n",
    "epsilon = grid_param('epsilon', epsilon_space, params, states_map, env)"
   ]
  },
  {
   "cell_type": "code",
   "execution_count": 31,
   "metadata": {
    "scrolled": false
   },
   "outputs": [
    {
     "name": "stdout",
     "output_type": "stream",
     "text": [
      "{'alpha': 0.0002, 'gamma': 0.23, 'epsilon': 0.9400000000000001} \t reward: -0.018881\n",
      "{'alpha': 0.0002, 'gamma': 0.26, 'epsilon': 0.9400000000000001} \t reward: -0.017971\n",
      "{'alpha': 0.0002, 'gamma': 0.29000000000000004, 'epsilon': 0.9400000000000001} \t reward: -0.023475\n",
      "{'alpha': 0.0002, 'gamma': 0.32, 'epsilon': 0.9400000000000001} \t reward: -0.02189\n",
      "{'alpha': 0.0002, 'gamma': 0.35, 'epsilon': 0.9400000000000001} \t reward: -0.016902\n",
      "{'alpha': 0.0002, 'gamma': 0.38, 'epsilon': 0.9400000000000001} \t reward: -0.017763\n",
      "{'alpha': 0.0002, 'gamma': 0.41000000000000003, 'epsilon': 0.9400000000000001} \t reward: -0.020995\n",
      "{'alpha': 0.0002, 'gamma': 0.44, 'epsilon': 0.9400000000000001} \t reward: -0.024072\n",
      "{'alpha': 0.0002, 'gamma': 0.47000000000000003, 'epsilon': 0.9400000000000001} \t reward: -0.022213\n",
      "{'alpha': 0.0002, 'gamma': 0.5, 'epsilon': 0.9400000000000001} \t reward: -0.023861\n"
     ]
    }
   ],
   "source": [
    "params = {\n",
    "    'alpha': alpha,\n",
    "    'gamma': gamma,\n",
    "    'epsilon': epsilon\n",
    "}\n",
    "gamma_space = np.linspace(0.2, 0.5, 11)\n",
    "gamma = grid_param('gamma', gamma_space, params, states_map, env)"
   ]
  },
  {
   "cell_type": "code",
   "execution_count": 32,
   "metadata": {},
   "outputs": [
    {
     "name": "stdout",
     "output_type": "stream",
     "text": [
      "Итерация 0: -0.166958\n",
      "Итерация 20000: -0.044151\n",
      "Итерация 40000: -0.036743\n",
      "Итерация 60000: -0.034173\n",
      "Итерация 80000: -0.028665\n",
      "Итерация 100000: -0.024074\n",
      "Итерация 120000: -0.026012\n",
      "Итерация 140000: -0.018923\n",
      "Итерация 160000: -0.020679\n",
      "Итерация 180000: -0.020268\n",
      "Итерация 200000: -0.021457\n",
      "Итерация 220000: -0.019783\n",
      "Итерация 240000: -0.02023\n",
      "Итерация 260000: -0.021628\n",
      "Итерация 280000: -0.019504\n",
      "Итерация 300000: -0.020286\n",
      "Итерация 320000: -0.018816\n",
      "Итерация 340000: -0.018397\n",
      "Итерация 360000: -0.016684\n",
      "Итерация 380000: -0.019041\n",
      "Итерация 400000: -0.022779\n",
      "Итерация 420000: -0.020295\n",
      "Итерация 440000: -0.021307\n",
      "Итерация 460000: -0.020374\n",
      "Итерация 480000: -0.017331\n"
     ]
    }
   ],
   "source": [
    "rewards_history, Q = evaluate_reward(states_map, env, alpha=alpha, epsilon=epsilon, gamma=gamma)"
   ]
  },
  {
   "cell_type": "code",
   "execution_count": 33,
   "metadata": {},
   "outputs": [
    {
     "name": "stdout",
     "output_type": "stream",
     "text": [
      "Средняя прибыль от RL: -0.017995\n"
     ]
    }
   ],
   "source": [
    "rewards = play_by_pi(Q, env, n_episodes=500_000)\n",
    "\n",
    "print(f'Средняя прибыль от RL: {np.mean(rewards)}')"
   ]
  },
  {
   "cell_type": "markdown",
   "metadata": {},
   "source": [
    "Видим, что с возможностью удвоения наши потери существенно снизились."
   ]
  },
  {
   "cell_type": "code",
   "execution_count": 34,
   "metadata": {},
   "outputs": [
    {
     "data": {
      "image/png": "[encoded data removed]",
      "text/plain": [
       "<Figure size 1152x432 with 1 Axes>"
      ]
     },
     "metadata": {
      "needs_background": "light"
     },
     "output_type": "display_data"
    }
   ],
   "source": [
    "plt.figure(figsize=(16, 6))\n",
    "plt.title('Средняя прибыль в процессе обучения')\n",
    "plt.plot(rewards_history);"
   ]
  },
  {
   "cell_type": "markdown",
   "metadata": {},
   "source": [
    "# Часть третья, в главной роли — Дастин Хоффман"
   ]
  },
  {
   "cell_type": "markdown",
   "metadata": {},
   "source": [
    "А теперь давайте вспомним, как играют в блекджек настоящие профессионалы. Дело в том, что в оффлайн-казино обычно не перемешивают колоду после каждой раздачи — это слишком замедляло бы игру. После раздачи карты просто раздаются дальше с верха колоды до тех пор, пока карт не останется слишком мало, и только тогда колода перемешивается; давайте для определённости считать, что наше казино будет перемешивать колоду, в которой осталось меньше 15 карт."
   ]
  },
  {
   "cell_type": "markdown",
   "metadata": {},
   "source": [
    "Действительно, если вы будете запоминать, какие карты уже вышли, у вас будет информация о том, какие карты ещё остались, а это позволяет лучше понять, когда нужно удваивать ставку или делать split, а когда лучше не стоит. В настоящем казино могут раздавать карты сразу из нескольких колод, и заслуга Rain Man’а была в том, что он смог считать карты в шести колодах одновременно. Но мы с вами вооружены компьютерами, так что подсчёт можно считать автоматическим.\n",
    "- Реализуйте вариант окружения Blackjack-v0 из предыдущей части (с удвоением), в котором игрок имеет возможность “считать карты” в колоде. Это можно сделать разными способами; возможно, вам поможет статья википедии о блекджеке (а возможно, и нет).\n",
    "- Реализуйте метод обучения с подкреплением без модели для этого варианта, постройте графики, аналогичные п.2."
   ]
  },
  {
   "cell_type": "markdown",
   "metadata": {},
   "source": [
    "Используем стратегию подсчета карт из https://www.onlineblackjackrealmoney.org/card-counting/zen-count. Так как состояний стало значительно больше, увеличим количество итераций обучения."
   ]
  },
  {
   "cell_type": "code",
   "execution_count": 60,
   "metadata": {},
   "outputs": [],
   "source": [
    "from BlackjackEnvWithDoubleAndCount import BlackjackEnvWithDoubleAndCount"
   ]
  },
  {
   "cell_type": "code",
   "execution_count": 61,
   "metadata": {},
   "outputs": [],
   "source": [
    "env = BlackjackEnvWithDoubleAndCount(natural=True)"
   ]
  },
  {
   "cell_type": "code",
   "execution_count": 62,
   "metadata": {},
   "outputs": [],
   "source": [
    "space = env.observation_space\n",
    "states = list(itprod(range(1, space[0].n + 1),\n",
    "                     range(1, space[1].n + 1), \n",
    "                     [False, True], \n",
    "                     range(-space[3].n // 2, space[3].n // 2 + 1)))\n",
    "states_map = dict(zip(states, range(len(states))))\n",
    "Q = np.zeros((len(states), env.action_space.n))"
   ]
  },
  {
   "cell_type": "code",
   "execution_count": 52,
   "metadata": {
    "scrolled": false
   },
   "outputs": [
    {
     "name": "stdout",
     "output_type": "stream",
     "text": [
      "Итерация 500000: -0.033342\n",
      "Итерация 1000000: -0.022\n",
      "Итерация 1500000: -0.02064\n",
      "Итерация 2000000: -0.019226\n",
      "Итерация 2500000: -0.017246\n",
      "Итерация 3000000: -0.01671\n",
      "Итерация 3500000: -0.011863\n",
      "Итерация 4000000: -0.015561\n",
      "Итерация 4500000: -0.017209\n",
      "Итерация 5000000: -0.012977\n",
      "Итерация 5500000: -0.011467\n",
      "Итерация 6000000: -0.00952\n",
      "Итерация 6500000: -0.011531\n",
      "Итерация 7000000: -0.011192\n",
      "Итерация 7500000: -0.01366\n",
      "Итерация 8000000: -0.011484\n",
      "Итерация 8500000: -0.00906\n",
      "Итерация 9000000: -0.013127\n",
      "Итерация 9500000: -0.008005\n",
      "Итерация 10000000: -0.013211\n",
      "Итерация 10500000: -0.010194\n",
      "Итерация 11000000: -0.012401\n",
      "Итерация 11500000: -0.009609\n",
      "Итерация 12000000: -0.012723\n",
      "Итерация 12500000: -0.009325\n",
      "Итерация 13000000: -0.009299\n",
      "Итерация 13500000: -0.011866\n",
      "Итерация 14000000: -0.008791\n",
      "Итерация 14500000: -0.008056\n",
      "Итерация 15000000: -0.01003\n",
      "Итерация 15500000: -0.010088\n",
      "Итерация 16000000: -0.009788\n",
      "Итерация 16500000: -0.006439\n",
      "Итерация 17000000: -0.010843\n",
      "Итерация 17500000: -0.007396\n",
      "Итерация 18000000: -0.005518\n",
      "Итерация 18500000: -0.004809\n",
      "Итерация 19000000: -0.006357\n",
      "Итерация 19500000: -0.00697\n",
      "Итерация 20000000: -0.013032\n"
     ]
    }
   ],
   "source": [
    "rewards_history, Q = evaluate_reward(\n",
    "    states_map, env, alpha=alpha, epsilon=epsilon, gamma=gamma, \n",
    "    n_episodes_train=20_000_000, n_episodes_eval=500_000, eval_every=500_000\n",
    ")"
   ]
  },
  {
   "cell_type": "code",
   "execution_count": 54,
   "metadata": {},
   "outputs": [
    {
     "name": "stdout",
     "output_type": "stream",
     "text": [
      "Средняя прибыль от RL с удвоением ставки и подсчетом карт: -0.004428\n"
     ]
    }
   ],
   "source": [
    "rewards = play_by_pi(Q, env, n_episodes=500_000)\n",
    "\n",
    "print(f'Средняя прибыль от RL с удвоением ставки и подсчетом карт: {np.mean(rewards)}')"
   ]
  },
  {
   "cell_type": "markdown",
   "metadata": {},
   "source": [
    "Теперь уже очень близко к тому, чтобы не проиграть, но все же нет=)"
   ]
  },
  {
   "cell_type": "code",
   "execution_count": 57,
   "metadata": {},
   "outputs": [
    {
     "data": {
      "image/png": "[encoded data removed]",
      "text/plain": [
       "<Figure size 1152x432 with 1 Axes>"
      ]
     },
     "metadata": {
      "needs_background": "light"
     },
     "output_type": "display_data"
    }
   ],
   "source": [
    "plt.figure(figsize=(16, 6))\n",
    "plt.title('Средняя прибыль в процессе обучения')\n",
    "plt.plot(rewards_history);"
   ]
  },
  {
   "cell_type": "markdown",
   "metadata": {},
   "source": [
    "Таким образом, нам удалось создать агента, который практически смог играть в 0 с казино. Думаю, что с возможностью сплита у него бы этого получилось."
   ]
  }
 ],
 "metadata": {
  "kernelspec": {
   "display_name": "Python 3",
   "language": "python",
   "name": "python3"
  },
  "language_info": {
   "codemirror_mode": {
    "name": "ipython",
    "version": 3
   },
   "file_extension": ".py",
   "mimetype": "text/x-python",
   "name": "python",
   "nbconvert_exporter": "python",
   "pygments_lexer": "ipython3",
   "version": "3.7.6"
  }
 },
 "nbformat": 4,
 "nbformat_minor": 4
}
